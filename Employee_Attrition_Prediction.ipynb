{
 "cells": [
  {
   "cell_type": "markdown",
   "id": "f79ff394",
   "metadata": {},
   "source": [
    "# Employee Attrition Prediction* 
  },
  {
   "cell_type": "code",
   "execution_count": null,
   "id": "5c1731de",
   "metadata": {},
   "outputs": [],
   "source": [
    "# Imports\n",
    "import os\n",
    "import warnings\n",
    "warnings.filterwarnings('ignore')\n",
    "\n",
    "import pandas as pd\n",
    "import numpy as np\n",
    "\n",
    "from sklearn.model_selection import train_test_split\n",
    "from sklearn.preprocessing import StandardScaler, OneHotEncoder\n",
    "from sklearn.impute import SimpleImputer\n",
    "from sklearn.compose import ColumnTransformer\n",
    "from sklearn.pipeline import Pipeline\n",
    "from sklearn.metrics import accuracy_score, precision_score, recall_score, f1_score, roc_auc_score, classification_report\n",
    "\n",
    "from sklearn.linear_model import LogisticRegression\n",
    "from sklearn.ensemble import RandomForestClassifier\n",
    "\n",
    "import joblib\n",
    "\n",
    "# Visualization\n",
    "import matplotlib.pyplot as plt\n",
    "import seaborn as sns\n",
    "sns.set(style='whitegrid')\n"
   ]
  },
  {
   "cell_type": "markdown",
   "id": "6c702ced",
   "metadata": {},
   "source": [
    "## 1) Data Load & Quick Look"
   ]
  },
  {
   "cell_type": "code",
   "execution_count": null,
   "id": "03e33f3c",
   "metadata": {},
   "outputs": [],
   "source": [
    "DATA_PATH = 'HR_Employee_Attrition.csv'\n",
    "\n",
    "if os.path.exists(DATA_PATH):\n",
    "    df = pd.read_csv(DATA_PATH)\n",
    "    print('Dataset loaded:', DATA_PATH)\n",
    "    display(df.head())\n",
    "    print('Shape:', df.shape)\n",
    "else:\n",
    "    df = pd.DataFrame()\n",
    "    print(f\"File not found: {DATA_PATH}\")\n"
   ]
  },
  {
   "cell_type": "markdown",
   "id": "1753a052",
   "metadata": {},
   "source": [
    "## 2) Exploratory Data Analysis"
   ]
  },
  {
   "cell_type": "code",
   "execution_count": null,
   "id": "42c7ed07",
   "metadata": {},
   "outputs": [],
   "source": [
    "if not df.empty:\n",
    "    plt.figure(figsize=(6,4))\n",
    "    sns.countplot(x='Attrition', data=df)\n",
    "    plt.title('Attrition Distribution')\n",
    "    plt.show()\n",
    "\n",
    "    display(df.describe(include=[np.number]).T)\n",
    "else:\n",
    "    print('No data loaded.')\n"
   ]
  },
  {
   "cell_type": "markdown",
   "id": "17477fff",
   "metadata": {},
   "source": [
    "## 3) Preprocessing"
   ]
  },
  {
   "cell_type": "code",
   "execution_count": null,
   "id": "2ebabbab",
   "metadata": {},
   "outputs": [],
   "source": [
    "if not df.empty:\n",
    "    target = 'Attrition'\n",
    "    X = df.drop(columns=[target])\n",
    "    y = df[target].map({'Yes':1, 'No':0})\n",
    "\n",
    "    num_cols = X.select_dtypes(include=[np.number]).columns.tolist()\n",
    "    cat_cols = X.select_dtypes(include=['object']).columns.tolist()\n",
    "\n",
    "    num_pipeline = Pipeline([\n",
    "        ('imputer', SimpleImputer(strategy='median')),\n",
    "        ('scaler', StandardScaler())\n",
    "    ])\n",
    "\n",
    "    cat_pipeline = Pipeline([\n",
    "        ('imputer', SimpleImputer(strategy='most_frequent')),\n",
    "        ('onehot', OneHotEncoder(handle_unknown='ignore', sparse_output=False))\n",
    "    ])\n",
    "\n",
    "    preprocessor = ColumnTransformer([\n",
    "        ('num', num_pipeline, num_cols),\n",
    "        ('cat', cat_pipeline, cat_cols)\n",
    "    ])\n",
    "\n",
    "    X_train, X_test, y_train, y_test = train_test_split(X, y, test_size=0.2, random_state=42, stratify=y)\n",
    "    print('Train/Test:', X_train.shape, X_test.shape)\n",
    "else:\n",
    "    print('No data loaded.')\n"
   ]
  },
  {
   "cell_type": "markdown",
   "id": "c7d070a8",
   "metadata": {},
   "source": [
    "## 4) Modeling (Logistic Regression & Random Forest)"
   ]
  },
  {
   "cell_type": "code",
   "execution_count": null,
   "id": "06a378a5",
   "metadata": {},
   "outputs": [],
   "source": [
    "if not df.empty:\n",
    "    models = {\n",
    "        'Logistic Regression': LogisticRegression(max_iter=1000),\n",
    "        'Random Forest': RandomForestClassifier(n_estimators=200, random_state=42)\n",
    "    }\n",
    "\n",
    "    for name, model in models.items():\n",
    "        pipe = Pipeline([\n",
    "            ('pre', preprocessor),\n",
    "            ('clf', model)\n",
    "        ])\n",
    "        pipe.fit(X_train, y_train)\n",
    "        y_pred = pipe.predict(X_test)\n",
    "        y_proba = pipe.predict_proba(X_test)[:,1]\n",
    "\n",
    "        print(f\"===== {name} =====\")\n",
    "        print('Accuracy:', accuracy_score(y_test, y_pred))\n",
    "        print('Precision:', precision_score(y_test, y_pred))\n",
    "        print('Recall:', recall_score(y_test, y_pred))\n",
    "        print('F1:', f1_score(y_test, y_pred))\n",
    "        print('ROC AUC:', roc_auc_score(y_test, y_proba))\n",
    "        print(classification_report(y_test, y_pred))\n",
    "        print('\\n')\n",
    "\n",
    "    # Save best model (Random Forest)\n",
    "    best_model = Pipeline([\n",
    "        ('pre', preprocessor),\n",
    "        ('clf', RandomForestClassifier(n_estimators=200, random_state=42))\n",
    "    ])\n",
    "    best_model.fit(X_train, y_train)\n",
    "    joblib.dump(best_model, 'attrition_model.pkl')\n",
    "    print('Best model saved as attrition_model.pkl')\n",
    "else:\n",
    "    print('No data loaded.')\n"
   ]
  },
  {
   "cell_type": "markdown",
   "id": "d1799d0d",
   "metadata": {},
   "source": [
    "## 5) Single Prediction Example"
   ]
  },
  {
   "cell_type": "code",
   "execution_count": null,
   "id": "183d61fb",
   "metadata": {},
   "outputs": [],
   "source": [
    "if not df.empty:\n",
    "    loaded = joblib.load('attrition_model.pkl')\n",
    "    sample = X_test.iloc[0:1].copy()\n",
    "    display(sample)\n",
    "    prob = loaded.predict_proba(sample)[:,1]\n",
    "    pred = loaded.predict(sample)\n",
    "    print('Attrition Probability:', prob[0])\n",
    "    print('Predicted Class:', pred[0])\n",
    "else:\n",
    "    print('No data.')\n"
   ]
  }
 ],
 "metadata": {},
 "nbformat": 4,
 "nbformat_minor": 5
}
